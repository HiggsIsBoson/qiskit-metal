{
 "cells": [
  {
   "cell_type": "markdown",
   "id": "35d27b44",
   "metadata": {},
   "source": [
    "# S21 simulation of a resonator\n",
    "\n",
    "Authors: Sara Buhktari, Christian Kraglund Andersen\n"
   ]
  },
  {
   "cell_type": "code",
   "execution_count": 1,
   "id": "0b0da17a",
   "metadata": {},
   "outputs": [],
   "source": [
    "# Import useful packages\n",
    "import qiskit_metal as metal\n",
    "from qiskit_metal import designs, draw\n",
    "from qiskit_metal import MetalGUI, Dict, open_docs\n",
    "from qiskit_metal.toolbox_metal import math_and_overrides\n",
    "from qiskit_metal.qlibrary.core import QComponent\n",
    "from collections import OrderedDict\n",
    "\n",
    "# To create plots after geting solution data.\n",
    "import matplotlib.pyplot as plt\n",
    "import numpy as np\n",
    "\n",
    "# Packages for the simple design\n",
    "from qiskit_metal.qlibrary.tlines.meandered import RouteMeander\n",
    "from qiskit_metal.qlibrary.tlines.pathfinder import RoutePathfinder\n",
    "from qiskit_metal.qlibrary.terminations.launchpad_wb_driven import LaunchpadWirebondDriven\n",
    "from qiskit_metal.qlibrary.terminations.open_to_ground import OpenToGround\n",
    "from qiskit_metal.qlibrary.terminations.short_to_ground import ShortToGround\n",
    "\n",
    "# Analysis\n",
    "# from qiskit_metal.renderers.renderer_gds.gds_renderer import QGDSRenderer\n",
    "# from qiskit_metal.analyses.quantization import EPRanalysis\n",
    "from qiskit_metal.analyses.quantization import EPRanalysis\n",
    "from qiskit_metal.analyses.simulation import ScatteringImpedanceSim\n",
    "from qiskit_metal.analyses.sweep_and_optimize.sweeping import Sweeping\n",
    "import pyEPR as epr"
   ]
  },
  {
   "cell_type": "markdown",
   "id": "c6e244f8",
   "metadata": {},
   "source": [
    "# Set up the design"
   ]
  },
  {
   "cell_type": "code",
   "execution_count": 2,
   "id": "3983eac9",
   "metadata": {},
   "outputs": [],
   "source": [
    "# Set up chip dimensions \n",
    "design = designs.DesignPlanar()\n",
    "design._chips['main']['size']['size_x'] = '9mm'\n",
    "design._chips['main']['size']['size_y'] = '9mm'\n",
    "\n",
    "# Resonator and feedline gap width (W) and center conductor width (S) from reference 2\n",
    "design.variables['cpw_width'] = '15 um' #S from reference 2\n",
    "design.variables['cpw_gap'] = '9 um' #W from reference 2\n",
    "\n",
    "\n",
    "design.overwrite_enabled = True\n",
    "\n",
    "hfss = design.renderers.hfss\n",
    "\n",
    "# Open GUI\n",
    "gui = MetalGUI(design)"
   ]
  },
  {
   "cell_type": "code",
   "execution_count": 3,
   "id": "cc2c100f",
   "metadata": {},
   "outputs": [],
   "source": [
    "# Define for renderer\n",
    "eig_qres = EPRanalysis(design, \"hfss\")\n",
    "hfss = design.renderers.hfss\n",
    "hfss = eig_qres.sim.renderer\n",
    "q3d = design.renderers.q3d"
   ]
  },
  {
   "cell_type": "markdown",
   "id": "055c0bef",
   "metadata": {},
   "source": [
    "# Define the geometry\n",
    "\n",
    "Here we will have a single feedline couple to a single CPW resonator.\n",
    "\n",
    "The lauchpad should be included in the driven model simulations.\n",
    "\n",
    "For that reason, we use the LaunchpadWirebondDriven component which has an extra pin for input/output"
   ]
  },
  {
   "cell_type": "code",
   "execution_count": 6,
   "id": "ef570ed8",
   "metadata": {},
   "outputs": [],
   "source": [
    "###################\n",
    "# Single feedline #\n",
    "###################\n",
    "\n",
    "# Driven Lauchpad 1\n",
    "x = '-2.5mm'\n",
    "y = '2.0mm'\n",
    "launch_options = dict(chip='main', pos_x=x, pos_y=y, orientation='360', lead_length='30um', \n",
    "                    pad_width='323.78um', pad_height='172.77um', pad_gap='242.288um', taper_height='571.32um')\n",
    "LP1 = LaunchpadWirebondDriven(design, 'LP1', options = launch_options)\n",
    "\n",
    "# Driven Launchpad 2\n",
    "x = '2.5mm'\n",
    "y = '2.0mm'\n",
    "launch_options = dict(chip='main', pos_x=x, pos_y=y, orientation='180', lead_length='30um',\n",
    "                    pad_width='323.78um', pad_height='172.77um', pad_gap='242.288um', taper_height='571.32um')\n",
    "LP2 = LaunchpadWirebondDriven(design, 'LP2', options = launch_options)\n",
    "\n",
    "# Using path finder to connect the two launchpads\n",
    "TL_LP1_LP2 = RoutePathfinder(design, 'TL_LP1_LP2', options = dict(chip='main', \n",
    "                                            trace_width ='12um',\n",
    "                                            trace_gap ='7.2um',\n",
    "                                            fillet='75um',                 \n",
    "                                            hfss_wire_bonds = False,\n",
    "                                            lead=dict(end_straight='1.972mm'),\n",
    "                                            pin_inputs=Dict(\n",
    "                                                start_pin=Dict(\n",
    "                                                    component='LP1',\n",
    "                                                    pin='tie'),\n",
    "                                                end_pin=Dict(\n",
    "                                                    component='LP2',\n",
    "                                                    pin='tie')\n",
    "                                            )))\n",
    "\n",
    "\n",
    "# Rebuild the GUI\n",
    "gui.rebuild()\n"
   ]
  },
  {
   "cell_type": "code",
   "execution_count": null,
   "id": "92b1570a",
   "metadata": {},
   "outputs": [
    {
     "name": "stderr",
     "output_type": "stream",
     "text": [
      "02:40PM 50s WARNING [add_pins_to_table]: Component: 19 and pin: open are already in net_info with net_id 25\n",
      "02:40PM 50s WARNING [connect_pins]: NetId was not added for 19, open, 9, start and will not be added to components.\n",
      "02:40PM 50s WARNING [add_pins_to_table]: Component: 20 and pin: open are already in net_info with net_id 26\n",
      "02:40PM 50s WARNING [connect_pins]: NetId was not added for 20, open, 9, end and will not be added to components.\n"
     ]
    }
   ],
   "source": [
    "######################\n",
    "# lambda/2 resonator #\n",
    "######################\n",
    "\n",
    "# First we define the two end-points\n",
    "otg1 = OpenToGround(design, 'otg1s', options=dict(chip='main', pos_x='0.8mm',  pos_y='1.975mm', orientation='180'))\n",
    "otg2 = OpenToGround(design, 'otg1e', options=dict(chip='main', pos_x='1.2mm',  pos_y='0.4mm', orientation='270'))\n",
    "\n",
    "# Use RouteMeander to fix the total length of the resonator\n",
    "rt_meander1 = RouteMeander(design, 'meander1',  Dict(\n",
    "        trace_width ='9.6um',\n",
    "        trace_gap ='4um',\n",
    "        total_length='4.785mm',\n",
    "        hfss_wire_bonds = False,\n",
    "        fillet='75 um',\n",
    "        lead = dict(start_straight='347um'),\n",
    "        pin_inputs=Dict(\n",
    "            start_pin=Dict(component='otg1s', pin='open'),\n",
    "            end_pin=Dict(component='otg1e', pin='open')), ))\n",
    "\n",
    "\n",
    "# First we define the two end-points\n",
    "otg3 = OpenToGround(design, 'otg2s', options=dict(chip='main', pos_x='-1.2mm',  pos_y='1.975mm', orientation='180'))\n",
    "otg4 = OpenToGround(design, 'otg2e', options=dict(chip='main', pos_x='-0.8mm',  pos_y='-0.9mm', orientation='270'))\n",
    "\n",
    "# Use RouteMeander to fix the total length of the resonator\n",
    "rt_meander2 = RouteMeander(design, 'meander2',  Dict(\n",
    "        trace_width ='9.6um',\n",
    "        trace_gap ='4um',\n",
    "        total_length='12.228mm',\n",
    "        hfss_wire_bonds = False,\n",
    "        fillet='75 um',\n",
    "        lead = dict(start_straight='447um'),\n",
    "        pin_inputs=Dict(\n",
    "            start_pin=Dict(component='otg2s', pin='open'),\n",
    "            end_pin=Dict(component='otg2e', pin='open')), ))\n",
    "\n",
    "# rebuild the GUI\n",
    "gui.rebuild()\n",
    "gui.autoscale()"
   ]
  },
  {
   "cell_type": "code",
   "execution_count": 6,
   "id": "9956dd38",
   "metadata": {},
   "outputs": [
    {
     "data": {
      "image/png": "[encoded data removed]",
      "text/plain": [
       "<IPython.core.display.Image object>"
      ]
     },
     "metadata": {
      "image/png": {
       "width": 500
      }
     },
     "output_type": "display_data"
    }
   ],
   "source": [
    "gui.screenshot()"
   ]
  },
  {
   "cell_type": "markdown",
   "id": "8bd2910a",
   "metadata": {},
   "source": [
    "# Scattering Analysis"
   ]
  },
  {
   "cell_type": "code",
   "execution_count": 7,
   "id": "be209d2e",
   "metadata": {},
   "outputs": [],
   "source": [
    "from qiskit_metal.analyses.simulation import ScatteringImpedanceSim\n",
    "em1 = ScatteringImpedanceSim(design, \"hfss\")"
   ]
  },
  {
   "cell_type": "code",
   "execution_count": 8,
   "id": "504994dd",
   "metadata": {},
   "outputs": [],
   "source": [
    "design_name= \"Sweep_DrivenModal\"\n",
    "qcomp_render = [] # Means to render everything in qgeometry table.\n",
    "open_terminations = []\n",
    "\n",
    "# Here, pin LP1_in and LP2_in are converted into lumped ports,\n",
    "#           each with an impedance of 50 Ohms. <br>\n",
    "port_list = [('LP1', 'in', 50),\n",
    "             ('LP2', 'in', 50)]\n",
    "box_plus_buffer = True"
   ]
  },
  {
   "cell_type": "code",
   "execution_count": 9,
   "id": "be7762a9",
   "metadata": {},
   "outputs": [
    {
     "name": "stderr",
     "output_type": "stream",
     "text": [
      "INFO 01:53PM [connect_project]: Connecting to Ansys Desktop API...\n",
      "INFO 01:53PM [load_ansys_project]: \tOpened Ansys App\n",
      "INFO 01:53PM [load_ansys_project]: \tOpened Ansys Desktop v2021.1.0\n",
      "INFO 01:53PM [load_ansys_project]: \tOpened Ansys Project\n",
      "\tFolder:    C:/Users/chen/Documents/Ansoft/\n",
      "\tProject:   Project10\n",
      "INFO 01:53PM [connect_design]: No active design found (or error getting active design).\n",
      "INFO 01:53PM [connect]: \t Connected to project \"Project10\". No design detected\n"
     ]
    },
    {
     "data": {
      "text/plain": [
       "True"
      ]
     },
     "execution_count": 9,
     "metadata": {},
     "output_type": "execute_result"
    }
   ],
   "source": [
    "# we use HFSS as rendere\n",
    "hfss = em1.renderer\n",
    "hfss.start()"
   ]
  },
  {
   "cell_type": "code",
   "execution_count": 10,
   "id": "6bd25114",
   "metadata": {},
   "outputs": [
    {
     "name": "stderr",
     "output_type": "stream",
     "text": [
      "01:53PM 24s WARNING [activate_ansys_design]: The design_name=HangingResonator was not in active project.  Designs in active project are: \n",
      "[].  A new design will be added to the project.  \n",
      "INFO 01:53PM [connect_design]: \tOpened active design\n",
      "\tDesign:    HangingResonator [Solution type: DrivenModal]\n",
      "WARNING 01:53PM [connect_setup]: \tNo design setup detected.\n",
      "WARNING 01:53PM [connect_setup]: \tCreating drivenmodal default setup.\n",
      "INFO 01:53PM [get_setup]: \tOpened setup `Setup`  (<class 'pyEPR.ansys.HfssDMSetup'>)\n",
      "01:53PM 27s WARNING [edit_drivenmodal_setup]: In setup_args, key=max_delta_s, value=0.001 is not in pinfo.setup, the key/value pair from setup_args not added to Setup in Ansys.\n"
     ]
    }
   ],
   "source": [
    "# Here we activate the design for a drivenmodal solution\n",
    "hfss.activate_ansys_design(\"HangingResonator\", 'drivenmodal')\n",
    "setup_args = Dict(max_delta_s=0.001)\n",
    "setup_args.name = 'Setup'\n",
    "hfss.edit_drivenmodal_setup(setup_args)"
   ]
  },
  {
   "cell_type": "code",
   "execution_count": 11,
   "id": "5c8fc60c",
   "metadata": {},
   "outputs": [],
   "source": [
    "# set buffer\n",
    "hfss.options['x_buffer_width_mm'] = 0.1\n",
    "hfss.options['y_buffer_width_mm'] = 0.1"
   ]
  },
  {
   "cell_type": "code",
   "execution_count": 12,
   "id": "522ca07a",
   "metadata": {},
   "outputs": [],
   "source": [
    "# clean the design if needed\n",
    "hfss.clean_active_design()"
   ]
  },
  {
   "cell_type": "code",
   "execution_count": 13,
   "id": "d685f9fc",
   "metadata": {},
   "outputs": [],
   "source": [
    "# render the design\n",
    "hfss.render_design(selection=[], \n",
    "                   open_pins=open_terminations, \n",
    "                   port_list=port_list, \n",
    "                   box_plus_buffer = box_plus_buffer)"
   ]
  },
  {
   "cell_type": "code",
   "execution_count": 14,
   "id": "8a316652",
   "metadata": {},
   "outputs": [],
   "source": [
    "# for acurate simulations, make sure the mesh is fine enough for the meander\n",
    "hfss.modeler.mesh_length(\n",
    "                'cpw_mesh',\n",
    "                ['trace_meander'],\n",
    "                MaxLength='0.01mm')"
   ]
  },
  {
   "cell_type": "markdown",
   "id": "9ad348ed",
   "metadata": {},
   "source": [
    "# Broad sweet to find the resonance"
   ]
  },
  {
   "cell_type": "code",
   "execution_count": 15,
   "id": "e65e1ab2",
   "metadata": {},
   "outputs": [
    {
     "name": "stderr",
     "output_type": "stream",
     "text": [
      "INFO 01:53PM [get_setup]: \tOpened setup `Setup`  (<class 'pyEPR.ansys.HfssDMSetup'>)\n"
     ]
    },
    {
     "data": {
      "text/plain": [
       "<pyEPR.ansys.HfssFrequencySweep at 0x22061533160>"
      ]
     },
     "execution_count": 15,
     "metadata": {},
     "output_type": "execute_result"
    }
   ],
   "source": [
    "hfss.add_sweep(setup_name=\"Setup\", \n",
    "               name=\"Sweep\", \n",
    "               start_ghz=4.0,\n",
    "               stop_ghz=13.0,\n",
    "               count=2001,\n",
    "               type=\"Interpolating\")"
   ]
  },
  {
   "cell_type": "code",
   "execution_count": 16,
   "id": "bdeac158",
   "metadata": {},
   "outputs": [
    {
     "name": "stderr",
     "output_type": "stream",
     "text": [
      "INFO 01:53PM [get_setup]: \tOpened setup `Setup`  (<class 'pyEPR.ansys.HfssDMSetup'>)\n",
      "INFO 01:53PM [analyze]: Analyzing setup Setup : Sweep\n"
     ]
    }
   ],
   "source": [
    "hfss.analyze_sweep('Sweep', 'Setup')"
   ]
  },
  {
   "cell_type": "code",
   "execution_count": 17,
   "id": "522904f7",
   "metadata": {},
   "outputs": [
    {
     "data": {
      "text/plain": [
       "(                      S11                 S21\n",
       " 4.000 -0.033295-0.036933j -0.716856+0.695446j\n",
       " 4.002 -0.033323-0.036936j -0.716588+0.695721j\n",
       " 4.004 -0.033350-0.036940j -0.716319+0.695996j\n",
       " 4.006 -0.033378-0.036944j -0.716051+0.696270j\n",
       " 4.008 -0.033406-0.036947j -0.715782+0.696545j\n",
       " ...                   ...                 ...\n",
       " 7.992 -0.077323-0.009452j -0.034497+0.996364j\n",
       " 7.994 -0.077333-0.009425j -0.034114+0.996377j\n",
       " 7.996 -0.077344-0.009398j -0.033731+0.996389j\n",
       " 7.998 -0.077354-0.009371j -0.033347+0.996402j\n",
       " 8.000 -0.077364-0.009344j -0.032964+0.996414j\n",
       " \n",
       " [2001 rows x 2 columns],\n",
       " <Figure size 1000x600 with 2 Axes>)"
      ]
     },
     "execution_count": 17,
     "metadata": {},
     "output_type": "execute_result"
    }
   ],
   "source": [
    "hfss.plot_params(['S11', 'S21'])"
   ]
  },
  {
   "cell_type": "code",
   "execution_count": 18,
   "id": "c1f26b38",
   "metadata": {},
   "outputs": [],
   "source": [
    "# extract the S21 parameters\n",
    "freqs, Pcurves, Pparams = hfss.get_params(['S21'])"
   ]
  },
  {
   "cell_type": "code",
   "execution_count": 19,
   "id": "1c71579a",
   "metadata": {},
   "outputs": [
    {
     "data": {
      "text/plain": [
       "7130000000.0"
      ]
     },
     "execution_count": 19,
     "metadata": {},
     "output_type": "execute_result"
    }
   ],
   "source": [
    "# find armin \n",
    "f_res = freqs[np.argmin(np.abs(Pparams.S21.values))]\n",
    "f_res"
   ]
  },
  {
   "cell_type": "markdown",
   "id": "43df3d00",
   "metadata": {},
   "source": [
    "# Narrow sweep around the resonance found above"
   ]
  },
  {
   "cell_type": "code",
   "execution_count": 20,
   "id": "50ddb791",
   "metadata": {},
   "outputs": [
    {
     "name": "stderr",
     "output_type": "stream",
     "text": [
      "INFO 02:14PM [get_setup]: \tOpened setup `Setup`  (<class 'pyEPR.ansys.HfssDMSetup'>)\n"
     ]
    },
    {
     "data": {
      "text/plain": [
       "<pyEPR.ansys.HfssFrequencySweep at 0x2206151c550>"
      ]
     },
     "execution_count": 20,
     "metadata": {},
     "output_type": "execute_result"
    }
   ],
   "source": [
    "#fine sweep\n",
    "hfss.add_sweep(setup_name=\"Setup\", \n",
    "               name=\"Sweep_narrow\", \n",
    "               start_ghz=np.round(f_res/1e9,3)-0.01,\n",
    "               stop_ghz=np.round(f_res/1e9,3)+0.01,\n",
    "               count=1001,\n",
    "               type=\"Fast\") #slow but precise"
   ]
  },
  {
   "cell_type": "code",
   "execution_count": 21,
   "id": "ffea4175",
   "metadata": {},
   "outputs": [
    {
     "name": "stderr",
     "output_type": "stream",
     "text": [
      "INFO 02:14PM [get_setup]: \tOpened setup `Setup`  (<class 'pyEPR.ansys.HfssDMSetup'>)\n",
      "INFO 02:14PM [analyze]: Analyzing setup Setup : Sweep_narrow\n"
     ]
    }
   ],
   "source": [
    "hfss.analyze_sweep('Sweep_narrow', 'Setup')"
   ]
  },
  {
   "cell_type": "code",
   "execution_count": 22,
   "id": "f06626b4",
   "metadata": {},
   "outputs": [
    {
     "data": {
      "text/plain": [
       "(                        S11                 S21\n",
       " 7.12000 -0.110844-0.014996j -0.161273+0.980551j\n",
       " 7.12002 -0.110924-0.014982j -0.161190+0.980556j\n",
       " 7.12004 -0.111005-0.014968j -0.161106+0.980560j\n",
       " 7.12006 -0.111087-0.014953j -0.161021+0.980565j\n",
       " 7.12008 -0.111169-0.014938j -0.160937+0.980570j\n",
       " ...                     ...                 ...\n",
       " 7.13992 -0.035542-0.022337j -0.231149+0.972012j\n",
       " 7.13994 -0.035613-0.022335j -0.231077+0.972027j\n",
       " 7.13996 -0.035683-0.022332j -0.231005+0.972041j\n",
       " 7.13998 -0.035754-0.022330j -0.230934+0.972056j\n",
       " 7.14000 -0.035824-0.022328j -0.230863+0.972070j\n",
       " \n",
       " [1001 rows x 2 columns],\n",
       " <Figure size 1000x600 with 2 Axes>)"
      ]
     },
     "execution_count": 22,
     "metadata": {},
     "output_type": "execute_result"
    }
   ],
   "source": [
    "hfss.plot_params(['S11', 'S21'])"
   ]
  },
  {
   "cell_type": "code",
   "execution_count": null,
   "id": "743b8dcf",
   "metadata": {},
   "outputs": [],
   "source": []
  },
  {
   "cell_type": "markdown",
   "id": "c72f2f6d",
   "metadata": {},
   "source": [
    "# Close connections"
   ]
  },
  {
   "cell_type": "code",
   "execution_count": 23,
   "id": "80694931",
   "metadata": {},
   "outputs": [],
   "source": [
    "em1.close()"
   ]
  },
  {
   "cell_type": "code",
   "execution_count": 24,
   "id": "13927800",
   "metadata": {},
   "outputs": [],
   "source": [
    "hfss.disconnect_ansys()"
   ]
  },
  {
   "cell_type": "code",
   "execution_count": 25,
   "id": "dc2621b9",
   "metadata": {},
   "outputs": [
    {
     "ename": "KeyboardInterrupt",
     "evalue": "",
     "output_type": "error",
     "traceback": [
      "\u001b[1;31m---------------------------------------------------------------------------\u001b[0m",
      "\u001b[1;31mKeyboardInterrupt\u001b[0m                         Traceback (most recent call last)",
      "File \u001b[1;32mc:\\users\\chen\\desktop\\qc\\qiskit-metal\\qiskit_metal\\_gui\\widgets\\bases\\dict_tree_base.py:274\u001b[0m, in \u001b[0;36mQTreeModel_Base.auto_refresh\u001b[1;34m(self)\u001b[0m\n\u001b[0;32m    271\u001b[0m     \u001b[39mself\u001b[39m\u001b[39m.\u001b[39mtimer\u001b[39m.\u001b[39mstart(\u001b[39mself\u001b[39m\u001b[39m.\u001b[39m__refreshtime)\n\u001b[0;32m    272\u001b[0m     \u001b[39mself\u001b[39m\u001b[39m.\u001b[39mtimer\u001b[39m.\u001b[39mtimeout\u001b[39m.\u001b[39mconnect(\u001b[39mself\u001b[39m\u001b[39m.\u001b[39mauto_refresh)\n\u001b[1;32m--> 274\u001b[0m \u001b[39mdef\u001b[39;00m \u001b[39mauto_refresh\u001b[39m(\u001b[39mself\u001b[39m):\n\u001b[0;32m    275\u001b[0m     \u001b[39m\"\"\"Check to see if the total number of rows has been changed.\u001b[39;00m\n\u001b[0;32m    276\u001b[0m \n\u001b[0;32m    277\u001b[0m \u001b[39m    If so, completely rebuild the model and tree.\u001b[39;00m\n\u001b[0;32m    278\u001b[0m \u001b[39m    \"\"\"\u001b[39;00m\n\u001b[0;32m    279\u001b[0m     \u001b[39m# TODO: Check if new nodes have been added; if so, rebuild model.\u001b[39;00m\n",
      "\u001b[1;31mKeyboardInterrupt\u001b[0m: "
     ]
    },
    {
     "name": "stderr",
     "output_type": "stream",
     "text": [
      "02:19PM 40s CRITICAL [_qt_message_handler]: line: 0, func: None(), file: None  WARNING: QWindowsNativeFileDialogBase::selectNameFilter: Invalid parameter '*.metal.py' not found in 'All Files (*)'.\n",
      "\n",
      "02:19PM 40s CRITICAL [_qt_message_handler]: line: 0, func: None(), file: None  WARNING: QWindowsNativeFileDialogBase::selectNameFilter: Invalid parameter '*.metal.py' not found in 'All Files (*)'.\n",
      "\n"
     ]
    },
    {
     "data": {
      "text/plain": [
       "True"
      ]
     },
     "execution_count": 25,
     "metadata": {},
     "output_type": "execute_result"
    }
   ],
   "source": [
    "gui.main_window.close()"
   ]
  },
  {
   "cell_type": "code",
   "execution_count": null,
   "id": "6d7375c2",
   "metadata": {},
   "outputs": [],
   "source": []
  },
  {
   "cell_type": "code",
   "execution_count": null,
   "id": "81863bcc",
   "metadata": {},
   "outputs": [],
   "source": []
  }
 ],
 "metadata": {
  "kernelspec": {
   "display_name": "Python 3.9.12 ('qiskit_metal')",
   "language": "python",
   "name": "python3"
  },
  "language_info": {
   "codemirror_mode": {
    "name": "ipython",
    "version": 3
   },
   "file_extension": ".py",
   "mimetype": "text/x-python",
   "name": "python",
   "nbconvert_exporter": "python",
   "pygments_lexer": "ipython3",
   "version": "3.9.12"
  },
  "latex_envs": {
   "LaTeX_envs_menu_present": true,
   "autoclose": false,
   "autocomplete": true,
   "bibliofile": "biblio.bib",
   "cite_by": "apalike",
   "current_citInitial": 1,
   "eqLabelWithNumbers": true,
   "eqNumInitial": 1,
   "hotkeys": {
    "equation": "Ctrl-E",
    "itemize": "Ctrl-I"
   },
   "labels_anchors": false,
   "latex_user_defs": false,
   "report_style_numbering": false,
   "user_envs_cfg": false
  },
  "toc": {
   "base_numbering": 1,
   "nav_menu": {},
   "number_sections": true,
   "sideBar": true,
   "skip_h1_title": false,
   "title_cell": "Table of Contents",
   "title_sidebar": "Contents",
   "toc_cell": false,
   "toc_position": {},
   "toc_section_display": true,
   "toc_window_display": false
  },
  "vscode": {
   "interpreter": {
    "hash": "06ebf80b12fbc475fa5a11bb270222e67fb5000e64d941abb83e03e9b8df9bce"
   }
  }
 },
 "nbformat": 4,
 "nbformat_minor": 5
}
